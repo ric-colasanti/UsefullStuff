{
 "cells": [
  {
   "cell_type": "code",
   "execution_count": 115,
   "id": "192d8a62-0005-433d-9edc-6f93e2c3aeec",
   "metadata": {},
   "outputs": [],
   "source": [
    "import matplotlib.pyplot as plt\n",
    "import networkx as nx\n",
    "import random as rnd\n",
    "plt.rcParams[\"figure.figsize\"] = (6,6) "
   ]
  },
  {
   "cell_type": "code",
   "execution_count": 116,
   "id": "f19ef4ae-a608-4d82-a1dd-1058b9e0fb31",
   "metadata": {},
   "outputs": [],
   "source": [
    "class Node:\n",
    "    def __init__(self,id):\n",
    "        self.id = id\n",
    "        self.links=[]\n",
    "        self.centrality = 0\n",
    "        \n",
    "    def linked_to(self,target):\n",
    "        return target in self.links\n",
    "        \n",
    "    def geodesic(self,target=None):\n",
    "        if target==None:\n",
    "            target_id = None\n",
    "        else:\n",
    "            target_id = target.id\n",
    "            \n",
    "            \n",
    "        def shortest(path):\n",
    "            pointer = len(path)-1 \n",
    "            short=[target_id]\n",
    "            while pointer>0:\n",
    "                i=0\n",
    "                while (path[pointer] not in path[i].links):\n",
    "                    i+=1\n",
    "                short.append(path[i].id)\n",
    "                pointer=i\n",
    "            return short\n",
    "        \n",
    "        visited=[]\n",
    "        stack = [self]\n",
    "        while len(stack)>0:\n",
    "            a = stack.pop(0)\n",
    "            if a.id == target_id:\n",
    "                visited.append(a)\n",
    "                return shortest(visited),visited\n",
    "            if a not in visited:\n",
    "                visited.append(a)\n",
    "                stack+=a.links\n",
    "        return visited\n",
    "\n",
    "     \n",
    "        \n",
    "def link(a,b):\n",
    "    global graph\n",
    "    node_a= graph[a]\n",
    "    node_b= graph[b]\n",
    "    node_a.links.append(node_b)\n",
    "    node_b.links.append(node_a)\n",
    "    nxgraph.add_edge(str(a),str(b))\n",
    "\n",
    "graph=[]\n",
    "nxgraph = nx.Graph(directed = False)\n",
    "for i in range(20):\n",
    "    graph.append(Node(str(i)))       \n",
    "link(15,0)\n",
    "link(0,1)    \n",
    "link(1,2)\n",
    "link(2,3)\n",
    "link(1,4)\n",
    "link(4,5)\n",
    "link(3,6)    \n",
    "link(5,6)  \n",
    "link(6,10)\n",
    "link(7,10)    \n",
    "link(5,8)                 \n",
    "link(8,9)                  \n",
    "link(3,12)\n",
    "link(12,13) \n",
    "link(1,16)\n",
    "link(16,17)\n",
    "link(17,6)\n",
    "link(1,18)\n",
    "link(18,19)\n",
    "link(19,6)\n",
    "link(8,11)\n",
    "link(8,14)                "
   ]
  },
  {
   "cell_type": "code",
   "execution_count": 117,
   "id": "b1b09518-4960-4a59-a96d-161e12f0424d",
   "metadata": {},
   "outputs": [],
   "source": [
    "def geodesic(a,b):\n",
    "    short,visited  = graph[a].geodesic(graph[b])\n",
    "    def is_in(p,visited):\n",
    "        found=[]\n",
    "        n=visited[p]\n",
    "        for i in range(p):\n",
    "            node = visited[i]\n",
    "            if node.linked_to(n):\n",
    "                found.append(i)\n",
    "        return found\n",
    "    \n",
    "    s = len(visited)-1\n",
    "    stack=[s]\n",
    "    paths = []\n",
    "    while len(stack)>0:\n",
    "        p = stack.pop(0)\n",
    "        found = is_in(p,visited)\n",
    "        for f in found:\n",
    "            stack.append(f)\n",
    "            paths.append(visited[f].id),stack\n",
    "    return paths\n"
   ]
  },
  {
   "cell_type": "code",
   "execution_count": 118,
   "id": "5bd6c87d-eb68-431d-8623-27974b0f238b",
   "metadata": {},
   "outputs": [],
   "source": [
    "def calc_shortest_paths(a,b):\n",
    "    x = geodesic(a,b)\n",
    "    set_x = set(x)\n",
    "    dict_x1 = dict.fromkeys(set_x, 0)\n",
    "    dict_x2 = dict.fromkeys(set_x, 0)\n",
    "    for n in x:\n",
    "        if n!=str(a):\n",
    "            if n!=str(b):\n",
    "                dict_x1[n]+=1\n",
    "    x = geodesic(b,a)\n",
    "    for n in x:\n",
    "        if n!=str(a):\n",
    "            if n!=str(b):\n",
    "                dict_x2[n]+=1\n",
    "    for n in dict_x1:\n",
    "        if dict_x2[n]<dict_x1[n]:\n",
    "            dict_x2[n]=dict_x1[n]\n",
    "\n",
    "    return dict_x2         \n",
    "    \n"
   ]
  },
  {
   "cell_type": "code",
   "execution_count": 119,
   "id": "6ab3dee4-e328-4931-b009-3d27a95ed8ae",
   "metadata": {},
   "outputs": [],
   "source": [
    "for i in range(len(graph)):\n",
    "    for j in range(i+1,len(graph)):\n",
    "        s = calc_shortest_paths(i,j)\n",
    "        for d in s:\n",
    "            graph[int(d)].centrality+=s[d]\n",
    "            "
   ]
  },
  {
   "cell_type": "code",
   "execution_count": 126,
   "id": "66fd179d-6c99-433f-8e36-ae61091f14e5",
   "metadata": {},
   "outputs": [
    {
     "name": "stdout",
     "output_type": "stream",
     "text": [
      "[['6', 114], ['5', 89], ['1', 88], ['8', 60], ['3', 59], ['4', 39], ['0', 27], ['2', 27], ['10', 27], ['12', 21], ['17', 21], ['19', 21], ['16', 15], ['18', 15], ['7', 0], ['9', 0], ['11', 0], ['13', 0], ['14', 0], ['15', 0]]\n"
     ]
    }
   ],
   "source": [
    "res=[]\n",
    "for g in graph:\n",
    "    res.append([g.id,g.centrality])\n",
    "res_sorted = sorted(res, key=lambda x: x[1], reverse=True)\n",
    "print(res_sorted)\n"
   ]
  },
  {
   "cell_type": "code",
   "execution_count": 114,
   "id": "350ec4b7-137e-44ee-a1ff-508d337c8a07",
   "metadata": {},
   "outputs": [
    {
     "data": {
      "image/png": "[encoded data removed]",
      "text/plain": [
       "<Figure size 576x576 with 1 Axes>"
      ]
     },
     "metadata": {},
     "output_type": "display_data"
    }
   ],
   "source": [
    "nx.draw_networkx(nxgraph,node_color = \"pink\",node_size=250,width=0.2,font_size=8)\n",
    "plt.show() "
   ]
  },
  {
   "cell_type": "code",
   "execution_count": null,
   "id": "e160a4e2-fc7e-472b-8878-838709e99ddb",
   "metadata": {},
   "outputs": [],
   "source": []
  }
 ],
 "metadata": {
  "kernelspec": {
   "display_name": "Python 3 (ipykernel)",
   "language": "python",
   "name": "python3"
  },
  "language_info": {
   "codemirror_mode": {
    "name": "ipython",
    "version": 3
   },
   "file_extension": ".py",
   "mimetype": "text/x-python",
   "name": "python",
   "nbconvert_exporter": "python",
   "pygments_lexer": "ipython3",
   "version": "3.7.3"
  }
 },
 "nbformat": 4,
 "nbformat_minor": 5
}
